{
 "cells": [
  {
   "cell_type": "markdown",
   "id": "855eab21-0b23-4645-b637-e0c1c13cf7f4",
   "metadata": {},
   "source": [
    "# Tuple"
   ]
  },
  {
   "cell_type": "code",
   "execution_count": 1,
   "id": "b74189b3-f373-45f5-9bdf-d47ec8afd08b",
   "metadata": {},
   "outputs": [],
   "source": [
    "t=(2,4,6,8,9)"
   ]
  },
  {
   "cell_type": "code",
   "execution_count": 2,
   "id": "e399515c-6e02-4633-a166-f21e3c49d327",
   "metadata": {},
   "outputs": [
    {
     "data": {
      "text/plain": [
       "(2, 4, 6, 8, 9)"
      ]
     },
     "execution_count": 2,
     "metadata": {},
     "output_type": "execute_result"
    }
   ],
   "source": [
    "t"
   ]
  },
  {
   "cell_type": "code",
   "execution_count": 3,
   "id": "8fae3a33-a28c-46f6-9649-3379a77f7862",
   "metadata": {},
   "outputs": [
    {
     "data": {
      "text/plain": [
       "tuple"
      ]
     },
     "execution_count": 3,
     "metadata": {},
     "output_type": "execute_result"
    }
   ],
   "source": [
    "type(t)"
   ]
  },
  {
   "cell_type": "code",
   "execution_count": 4,
   "id": "0174ceaf-e8db-41be-96f0-db837f5258de",
   "metadata": {},
   "outputs": [
    {
     "data": {
      "text/plain": [
       "8"
      ]
     },
     "execution_count": 4,
     "metadata": {},
     "output_type": "execute_result"
    }
   ],
   "source": [
    "t[3]"
   ]
  },
  {
   "cell_type": "code",
   "execution_count": 7,
   "id": "aba8ae4e-4337-490f-92f5-c062ce3a4598",
   "metadata": {},
   "outputs": [
    {
     "data": {
      "text/plain": [
       "int"
      ]
     },
     "execution_count": 7,
     "metadata": {},
     "output_type": "execute_result"
    }
   ],
   "source": [
    "type(4)"
   ]
  },
  {
   "cell_type": "code",
   "execution_count": 10,
   "id": "1da3b504-14f8-4b7a-9323-62eba9d7521d",
   "metadata": {},
   "outputs": [
    {
     "data": {
      "text/plain": [
       "9"
      ]
     },
     "execution_count": 10,
     "metadata": {},
     "output_type": "execute_result"
    }
   ],
   "source": [
    "t[4]"
   ]
  },
  {
   "cell_type": "code",
   "execution_count": 11,
   "id": "54aba727-2b12-4ef2-865e-00ac31c312d9",
   "metadata": {},
   "outputs": [],
   "source": [
    "colors=('Red', 'White', 'Purple', 'Pink')"
   ]
  },
  {
   "cell_type": "code",
   "execution_count": 12,
   "id": "40eb61fa-e9ee-4198-99b6-24da7db742a9",
   "metadata": {},
   "outputs": [
    {
     "data": {
      "text/plain": [
       "('Red', 'White', 'Purple', 'Pink')"
      ]
     },
     "execution_count": 12,
     "metadata": {},
     "output_type": "execute_result"
    }
   ],
   "source": [
    "colors"
   ]
  },
  {
   "cell_type": "code",
   "execution_count": 14,
   "id": "260d5569-1ca9-4d29-9a5a-5b81b21fe853",
   "metadata": {},
   "outputs": [
    {
     "data": {
      "text/plain": [
       "'Purple'"
      ]
     },
     "execution_count": 14,
     "metadata": {},
     "output_type": "execute_result"
    }
   ],
   "source": [
    "colors[2]"
   ]
  },
  {
   "cell_type": "code",
   "execution_count": 15,
   "id": "a2258cfa-0e04-4fbf-b7eb-5589c8f13f63",
   "metadata": {},
   "outputs": [
    {
     "data": {
      "text/plain": [
       "'Red'"
      ]
     },
     "execution_count": 15,
     "metadata": {},
     "output_type": "execute_result"
    }
   ],
   "source": [
    "colors[0]"
   ]
  },
  {
   "cell_type": "code",
   "execution_count": 18,
   "id": "6c2d6a22-d7ce-4d9f-b529-4be8ee5f8322",
   "metadata": {},
   "outputs": [],
   "source": [
    "colors=l=['Blue', 'Orange', 'Black'] #convert tuple to list"
   ]
  },
  {
   "cell_type": "code",
   "execution_count": 19,
   "id": "21842ebb-25a4-4f85-9251-bd4a4cc1228e",
   "metadata": {},
   "outputs": [
    {
     "data": {
      "text/plain": [
       "['Blue', 'Orange', 'Black']"
      ]
     },
     "execution_count": 19,
     "metadata": {},
     "output_type": "execute_result"
    }
   ],
   "source": [
    "colors"
   ]
  },
  {
   "cell_type": "code",
   "execution_count": 20,
   "id": "489f0cfa-fe08-4125-a970-766ed02e9982",
   "metadata": {},
   "outputs": [
    {
     "data": {
      "text/plain": [
       "'Black'"
      ]
     },
     "execution_count": 20,
     "metadata": {},
     "output_type": "execute_result"
    }
   ],
   "source": [
    "colors[2]"
   ]
  },
  {
   "cell_type": "code",
   "execution_count": 21,
   "id": "4eb07102-6bcb-41c6-89d0-ef4a0726d3ae",
   "metadata": {},
   "outputs": [
    {
     "data": {
      "text/plain": [
       "'Orange'"
      ]
     },
     "execution_count": 21,
     "metadata": {},
     "output_type": "execute_result"
    }
   ],
   "source": [
    "colors[1]"
   ]
  },
  {
   "cell_type": "code",
   "execution_count": 22,
   "id": "95773b93-6c3b-41e6-8443-56ac7acb639e",
   "metadata": {},
   "outputs": [
    {
     "data": {
      "text/plain": [
       "'Blue'"
      ]
     },
     "execution_count": 22,
     "metadata": {},
     "output_type": "execute_result"
    }
   ],
   "source": [
    "colors[0]"
   ]
  },
  {
   "cell_type": "code",
   "execution_count": 23,
   "id": "12e80065-3035-4431-98c9-947650c74c33",
   "metadata": {},
   "outputs": [
    {
     "data": {
      "text/plain": [
       "list"
      ]
     },
     "execution_count": 23,
     "metadata": {},
     "output_type": "execute_result"
    }
   ],
   "source": [
    "type(colors)"
   ]
  },
  {
   "cell_type": "code",
   "execution_count": 24,
   "id": "dce591c0-d763-414b-9a37-37b84b341368",
   "metadata": {},
   "outputs": [],
   "source": [
    "l=t=(3,6,9,12)"
   ]
  },
  {
   "cell_type": "code",
   "execution_count": 25,
   "id": "231f33cf-d2ca-4d8c-83d3-9b3a5a799ad0",
   "metadata": {},
   "outputs": [
    {
     "data": {
      "text/plain": [
       "(3, 6, 9, 12)"
      ]
     },
     "execution_count": 25,
     "metadata": {},
     "output_type": "execute_result"
    }
   ],
   "source": [
    "t"
   ]
  },
  {
   "cell_type": "code",
   "execution_count": 26,
   "id": "28d51349-180b-4e89-a657-df519bbfb12f",
   "metadata": {},
   "outputs": [
    {
     "data": {
      "text/plain": [
       "tuple"
      ]
     },
     "execution_count": 26,
     "metadata": {},
     "output_type": "execute_result"
    }
   ],
   "source": [
    "type(t)"
   ]
  },
  {
   "cell_type": "markdown",
   "id": "83138a38-a411-47d1-a68f-5fdce268db29",
   "metadata": {},
   "source": [
    "# Tuple Methods"
   ]
  },
  {
   "cell_type": "code",
   "execution_count": 27,
   "id": "755e43cd-5e9f-42f6-80f2-a6e5b837941d",
   "metadata": {},
   "outputs": [],
   "source": [
    "x=(22,33,45,56,12,7)"
   ]
  },
  {
   "cell_type": "code",
   "execution_count": 28,
   "id": "0547c2de-9a6e-4d1c-834e-7f9727170cfc",
   "metadata": {},
   "outputs": [
    {
     "data": {
      "text/plain": [
       "(22, 33, 45, 56, 12, 7)"
      ]
     },
     "execution_count": 28,
     "metadata": {},
     "output_type": "execute_result"
    }
   ],
   "source": [
    "x"
   ]
  },
  {
   "cell_type": "code",
   "execution_count": 29,
   "id": "5a10ba52-c128-43be-abee-f9b532bda020",
   "metadata": {},
   "outputs": [
    {
     "data": {
      "text/plain": [
       "2"
      ]
     },
     "execution_count": 29,
     "metadata": {},
     "output_type": "execute_result"
    }
   ],
   "source": [
    "x.index(45)"
   ]
  },
  {
   "cell_type": "code",
   "execution_count": 30,
   "id": "983df735-ac8f-49a2-861d-0719648f566a",
   "metadata": {},
   "outputs": [
    {
     "data": {
      "text/plain": [
       "5"
      ]
     },
     "execution_count": 30,
     "metadata": {},
     "output_type": "execute_result"
    }
   ],
   "source": [
    "x.index(7)"
   ]
  },
  {
   "cell_type": "code",
   "execution_count": 31,
   "id": "7d53eddf-78af-40ac-8052-cb0bf4cb090f",
   "metadata": {},
   "outputs": [],
   "source": [
    "numbers=(2,2,2,3,3,4,4,4,4,5,6,7,8,9,9)"
   ]
  },
  {
   "cell_type": "code",
   "execution_count": 32,
   "id": "11ad2d47-1a8f-432a-a553-23d031fc852c",
   "metadata": {},
   "outputs": [
    {
     "data": {
      "text/plain": [
       "(2, 2, 2, 3, 3, 4, 4, 4, 4, 5, 6, 7, 8, 9, 9)"
      ]
     },
     "execution_count": 32,
     "metadata": {},
     "output_type": "execute_result"
    }
   ],
   "source": [
    "numbers"
   ]
  },
  {
   "cell_type": "code",
   "execution_count": 33,
   "id": "ff11fe34-6016-4596-a986-efbdd89d1b70",
   "metadata": {},
   "outputs": [
    {
     "data": {
      "text/plain": [
       "4"
      ]
     },
     "execution_count": 33,
     "metadata": {},
     "output_type": "execute_result"
    }
   ],
   "source": [
    "numbers.count(4)"
   ]
  },
  {
   "cell_type": "code",
   "execution_count": 34,
   "id": "bc4239d2-8894-45da-9655-4b0c33cdc6c8",
   "metadata": {},
   "outputs": [
    {
     "data": {
      "text/plain": [
       "3"
      ]
     },
     "execution_count": 34,
     "metadata": {},
     "output_type": "execute_result"
    }
   ],
   "source": [
    "numbers.count(2)"
   ]
  },
  {
   "cell_type": "code",
   "execution_count": 35,
   "id": "f5393771-7de1-4020-b32b-e65b78b5e0b9",
   "metadata": {},
   "outputs": [
    {
     "data": {
      "text/plain": [
       "2"
      ]
     },
     "execution_count": 35,
     "metadata": {},
     "output_type": "execute_result"
    }
   ],
   "source": [
    "numbers.count(3)"
   ]
  },
  {
   "cell_type": "code",
   "execution_count": 36,
   "id": "f2ca0370-6e1b-4743-8594-25a1fd8c0e62",
   "metadata": {},
   "outputs": [
    {
     "data": {
      "text/plain": [
       "1"
      ]
     },
     "execution_count": 36,
     "metadata": {},
     "output_type": "execute_result"
    }
   ],
   "source": [
    "numbers.count(8)"
   ]
  },
  {
   "cell_type": "code",
   "execution_count": 37,
   "id": "6e75167a-04e7-436a-90b4-ba7a77104ddb",
   "metadata": {},
   "outputs": [
    {
     "data": {
      "text/plain": [
       "5"
      ]
     },
     "execution_count": 37,
     "metadata": {},
     "output_type": "execute_result"
    }
   ],
   "source": [
    "numbers.index(4)"
   ]
  },
  {
   "cell_type": "code",
   "execution_count": 38,
   "id": "bd1338fb-9580-405c-b539-90d3a2e4a5e8",
   "metadata": {},
   "outputs": [
    {
     "data": {
      "text/plain": [
       "0"
      ]
     },
     "execution_count": 38,
     "metadata": {},
     "output_type": "execute_result"
    }
   ],
   "source": [
    "numbers.index(2)"
   ]
  },
  {
   "cell_type": "code",
   "execution_count": 39,
   "id": "c1415797-a300-46fd-a2da-7e70ca285b3e",
   "metadata": {},
   "outputs": [
    {
     "data": {
      "text/plain": [
       "13"
      ]
     },
     "execution_count": 39,
     "metadata": {},
     "output_type": "execute_result"
    }
   ],
   "source": [
    "numbers.index(9)"
   ]
  },
  {
   "cell_type": "code",
   "execution_count": 40,
   "id": "d9b67864-e9a2-4772-8405-e3f984a045c9",
   "metadata": {},
   "outputs": [
    {
     "data": {
      "text/plain": [
       "10"
      ]
     },
     "execution_count": 40,
     "metadata": {},
     "output_type": "execute_result"
    }
   ],
   "source": [
    "numbers.index(6)"
   ]
  },
  {
   "cell_type": "code",
   "execution_count": 43,
   "id": "2aafd4d7-455f-4129-9c3f-5b7b3cd36ebe",
   "metadata": {},
   "outputs": [
    {
     "data": {
      "text/plain": [
       "9"
      ]
     },
     "execution_count": 43,
     "metadata": {},
     "output_type": "execute_result"
    }
   ],
   "source": [
    "numbers.index(5)"
   ]
  },
  {
   "cell_type": "code",
   "execution_count": null,
   "id": "71f9d3a6-e574-4a21-83e3-0a8a798f5ffc",
   "metadata": {},
   "outputs": [],
   "source": []
  }
 ],
 "metadata": {
  "kernelspec": {
   "display_name": "Python 3 (ipykernel)",
   "language": "python",
   "name": "python3"
  },
  "language_info": {
   "codemirror_mode": {
    "name": "ipython",
    "version": 3
   },
   "file_extension": ".py",
   "mimetype": "text/x-python",
   "name": "python",
   "nbconvert_exporter": "python",
   "pygments_lexer": "ipython3",
   "version": "3.12.7"
  }
 },
 "nbformat": 4,
 "nbformat_minor": 5
}
