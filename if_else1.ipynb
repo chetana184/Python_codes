{
 "cells": [
  {
   "cell_type": "code",
   "execution_count": 21,
   "id": "edf27812-c6af-43c1-b34a-c523133a5b0a",
   "metadata": {},
   "outputs": [
    {
     "name": "stdout",
     "output_type": "stream",
     "text": [
      "Pass\n"
     ]
    }
   ],
   "source": [
    "num=60\n",
    "if num > 50:\n",
    "    print('Pass')\n",
    "elif num < 35:\n",
    "    print('Fail')\n",
    "else:\n",
    "    print('Average')"
   ]
  },
  {
   "cell_type": "code",
   "execution_count": 20,
   "id": "03f478f7-1b2b-4704-81f0-b0856e115c65",
   "metadata": {},
   "outputs": [
    {
     "name": "stdout",
     "output_type": "stream",
     "text": [
      "Eligible\n"
     ]
    }
   ],
   "source": [
    "age=21\n",
    "if age>18:\n",
    "    print('Eligible')\n",
    "else:\n",
    "    print('not Eligible')"
   ]
  },
  {
   "cell_type": "code",
   "execution_count": 24,
   "id": "d73b03ba-4433-4d3f-9e20-4a04201fc249",
   "metadata": {},
   "outputs": [
    {
     "name": "stdout",
     "output_type": "stream",
     "text": [
      "Not Available\n"
     ]
    }
   ],
   "source": [
    "course='java'\n",
    "if course=='Python':\n",
    "    print('Available')\n",
    "else:\n",
    "    print('Not Available')"
   ]
  },
  {
   "cell_type": "code",
   "execution_count": 38,
   "id": "c845fb90-640b-4c3d-b12e-8f41b1938f22",
   "metadata": {},
   "outputs": [
    {
     "name": "stdout",
     "output_type": "stream",
     "text": [
      "not fev food\n"
     ]
    }
   ],
   "source": [
    "food='burger'\n",
    "if food=='Pizza':\n",
    "    print('fev food')\n",
    "else:\n",
    "    print('not fev food')"
   ]
  },
  {
   "cell_type": "code",
   "execution_count": 42,
   "id": "8e8fb74e-e454-4c1b-93e5-882a0c958ce2",
   "metadata": {},
   "outputs": [
    {
     "name": "stdout",
     "output_type": "stream",
     "text": [
      "This is not my name\n"
     ]
    }
   ],
   "source": [
    "name='Ishwari'\n",
    "if name=='Chetana':\n",
    "    print('my name is Chetana')\n",
    "else:\n",
    "    print('This is not my name')"
   ]
  },
  {
   "cell_type": "code",
   "execution_count": 44,
   "id": "3aa50dc4-d91a-45d3-a73e-51bca0e31fd3",
   "metadata": {},
   "outputs": [
    {
     "name": "stdout",
     "output_type": "stream",
     "text": [
      "fev color\n"
     ]
    }
   ],
   "source": [
    "color='Pink'\n",
    "if color=='Pink':\n",
    "    print('fev color')\n",
    "else:\n",
    "    print('not fev color')"
   ]
  },
  {
   "cell_type": "code",
   "execution_count": 50,
   "id": "b353f44b-02c6-4fb6-865c-2bffe2903222",
   "metadata": {},
   "outputs": [
    {
     "name": "stdout",
     "output_type": "stream",
     "text": [
      "Even Numbers\n"
     ]
    }
   ],
   "source": [
    "num=4\n",
    "if num % 2 ==0:\n",
    "    print('Even Numbers')\n",
    "elif num % 2 !=0:\n",
    "    print('Odd Numbers')\n",
    "else:\n",
    "    print('complete numbers')"
   ]
  },
  {
   "cell_type": "code",
   "execution_count": 52,
   "id": "6c72de19-f4b7-43d8-b6f7-09d2b1df3d72",
   "metadata": {},
   "outputs": [
    {
     "name": "stdout",
     "output_type": "stream",
     "text": [
      "Odd Numbers\n"
     ]
    }
   ],
   "source": [
    "num=7\n",
    "if num % 2 ==0:\n",
    "    print('Even Numbers')\n",
    "elif num % 2 !=0:\n",
    "    print('Odd Numbers')\n",
    "else:\n",
    "    print('complete numbers')"
   ]
  },
  {
   "cell_type": "code",
   "execution_count": null,
   "id": "abf37e33-2f98-4264-873d-5f626517e233",
   "metadata": {},
   "outputs": [],
   "source": []
  }
 ],
 "metadata": {
  "kernelspec": {
   "display_name": "Python 3 (ipykernel)",
   "language": "python",
   "name": "python3"
  },
  "language_info": {
   "codemirror_mode": {
    "name": "ipython",
    "version": 3
   },
   "file_extension": ".py",
   "mimetype": "text/x-python",
   "name": "python",
   "nbconvert_exporter": "python",
   "pygments_lexer": "ipython3",
   "version": "3.12.7"
  }
 },
 "nbformat": 4,
 "nbformat_minor": 5
}
