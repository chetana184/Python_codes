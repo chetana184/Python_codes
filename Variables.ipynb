{
 "cells": [
  {
   "cell_type": "markdown",
   "id": "b68d73b3-bb72-48a2-8ba1-0d90c4ffea0e",
   "metadata": {},
   "source": [
    "# Variables"
   ]
  },
  {
   "cell_type": "code",
   "execution_count": 6,
   "id": "97a69f2c-02ab-439c-b807-674ec29b4a31",
   "metadata": {},
   "outputs": [],
   "source": [
    "a = 8 # a is variable "
   ]
  },
  {
   "cell_type": "code",
   "execution_count": 7,
   "id": "50b77d9d-a89b-4632-b07e-7e8c9c7787ad",
   "metadata": {},
   "outputs": [
    {
     "data": {
      "text/plain": [
       "8"
      ]
     },
     "execution_count": 7,
     "metadata": {},
     "output_type": "execute_result"
    }
   ],
   "source": [
    "a"
   ]
  },
  {
   "cell_type": "code",
   "execution_count": 4,
   "id": "9972561c-9e94-46fe-ad82-de7574b17798",
   "metadata": {},
   "outputs": [],
   "source": [
    "name = 'chetana' # name is variable to store name"
   ]
  },
  {
   "cell_type": "code",
   "execution_count": 5,
   "id": "96091c0d-b212-4b2d-8ddc-60d94591ebe1",
   "metadata": {},
   "outputs": [
    {
     "data": {
      "text/plain": [
       "'chetana'"
      ]
     },
     "execution_count": 5,
     "metadata": {},
     "output_type": "execute_result"
    }
   ],
   "source": [
    "name"
   ]
  },
  {
   "cell_type": "code",
   "execution_count": 9,
   "id": "19659457-bd67-407f-8033-18f5b41710b3",
   "metadata": {},
   "outputs": [
    {
     "data": {
      "text/plain": [
       "10"
      ]
     },
     "execution_count": 9,
     "metadata": {},
     "output_type": "execute_result"
    }
   ],
   "source": [
    "a = 5\n",
    "b = 5\n",
    "a + b # add two numbers"
   ]
  },
  {
   "cell_type": "code",
   "execution_count": 11,
   "id": "8256a155-b822-4004-af7e-37426a4c9523",
   "metadata": {},
   "outputs": [],
   "source": [
    "x = 10.2\n",
    "y = 29\n",
    "z = 'hello'\n",
    "b = True\n",
    "d = 5+3j"
   ]
  },
  {
   "cell_type": "code",
   "execution_count": 17,
   "id": "040ef3c3-c227-4d69-b042-8abe1dfd8cf0",
   "metadata": {},
   "outputs": [
    {
     "data": {
      "text/plain": [
       "(float, int, str, bool, complex)"
      ]
     },
     "execution_count": 17,
     "metadata": {},
     "output_type": "execute_result"
    }
   ],
   "source": [
    "type(x), type(y), type(z), type(b), type(d) # check datatype of variables"
   ]
  },
  {
   "cell_type": "code",
   "execution_count": 21,
   "id": "aa7aaf84-1529-4f69-8f68-d3880a1dcc3f",
   "metadata": {},
   "outputs": [],
   "source": [
    "A = 2\n",
    "B = 4\n",
    "A,B = B,A # swap two variables"
   ]
  },
  {
   "cell_type": "code",
   "execution_count": 22,
   "id": "f8eb9318-1fe2-40b6-9c4c-76cb256836f9",
   "metadata": {},
   "outputs": [
    {
     "data": {
      "text/plain": [
       "(4, 2)"
      ]
     },
     "execution_count": 22,
     "metadata": {},
     "output_type": "execute_result"
    }
   ],
   "source": [
    "A , B"
   ]
  },
  {
   "cell_type": "code",
   "execution_count": 25,
   "id": "135a483d-fa44-4d3c-b758-b6e12704a2e6",
   "metadata": {},
   "outputs": [],
   "source": [
    "first_name = 'Chetana'\n",
    "last_name = 'Daund'\n",
    "full_name = first_name + \" \" + last_name  # print full_name"
   ]
  },
  {
   "cell_type": "code",
   "execution_count": 26,
   "id": "e90fbe21-ee09-4da3-953c-fc9f8521e874",
   "metadata": {},
   "outputs": [
    {
     "data": {
      "text/plain": [
       "'Chetana Daund'"
      ]
     },
     "execution_count": 26,
     "metadata": {},
     "output_type": "execute_result"
    }
   ],
   "source": [
    "full_name"
   ]
  },
  {
   "cell_type": "code",
   "execution_count": 29,
   "id": "ae1f410a-3657-43f4-9a9a-1d14de8702a1",
   "metadata": {},
   "outputs": [],
   "source": [
    "length = 8\n",
    "width = 5\n",
    "area = length * width # area of rectangle"
   ]
  },
  {
   "cell_type": "code",
   "execution_count": 28,
   "id": "e0ae760c-dd77-4944-8d67-8c3ee234ec55",
   "metadata": {},
   "outputs": [
    {
     "data": {
      "text/plain": [
       "40"
      ]
     },
     "execution_count": 28,
     "metadata": {},
     "output_type": "execute_result"
    }
   ],
   "source": [
    "area"
   ]
  },
  {
   "cell_type": "code",
   "execution_count": 35,
   "id": "10d8661d-9682-4512-a041-2c7fc342c095",
   "metadata": {},
   "outputs": [
    {
     "name": "stdin",
     "output_type": "stream",
     "text": [
      "Enter number 1: 10\n",
      "Enter number 2: 15\n"
     ]
    },
    {
     "name": "stdout",
     "output_type": "stream",
     "text": [
      "25\n"
     ]
    }
   ],
   "source": [
    "num1 = int(input('Enter number 1:'))  # take User input to display number\n",
    "num2 = int(input('Enter number 2:'))\n",
    "print( num1 + num2)"
   ]
  },
  {
   "cell_type": "code",
   "execution_count": 48,
   "id": "7fa10565-faab-487b-b1a5-e80e99a80e65",
   "metadata": {},
   "outputs": [],
   "source": [
    "name = (f' my first name is {first_name} and my last name is {last_name}')"
   ]
  },
  {
   "cell_type": "code",
   "execution_count": 49,
   "id": "cba6869b-9fa7-40e5-b6fb-9a3900e659ea",
   "metadata": {},
   "outputs": [
    {
     "data": {
      "text/plain": [
       "' my first name is Chetana and my last name is Daund'"
      ]
     },
     "execution_count": 49,
     "metadata": {},
     "output_type": "execute_result"
    }
   ],
   "source": [
    "name"
   ]
  },
  {
   "cell_type": "code",
   "execution_count": null,
   "id": "dd512994-b57e-4549-9c28-1a18974ff23e",
   "metadata": {},
   "outputs": [],
   "source": []
  }
 ],
 "metadata": {
  "kernelspec": {
   "display_name": "Python 3 (ipykernel)",
   "language": "python",
   "name": "python3"
  },
  "language_info": {
   "codemirror_mode": {
    "name": "ipython",
    "version": 3
   },
   "file_extension": ".py",
   "mimetype": "text/x-python",
   "name": "python",
   "nbconvert_exporter": "python",
   "pygments_lexer": "ipython3",
   "version": "3.12.7"
  }
 },
 "nbformat": 4,
 "nbformat_minor": 5
}
