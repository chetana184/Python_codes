{
 "cells": [
  {
   "cell_type": "markdown",
   "id": "d0a316b4-ad82-4c5c-845e-19061e75e6b5",
   "metadata": {},
   "source": [
    "Convert float to int"
   ]
  },
  {
   "cell_type": "code",
   "execution_count": 4,
   "id": "d4ff7e53-de47-4a54-b020-0e0e5c737f87",
   "metadata": {},
   "outputs": [],
   "source": [
    "b = int(2.6)"
   ]
  },
  {
   "cell_type": "code",
   "execution_count": 5,
   "id": "aea4b2d5-5fd8-42ae-8dde-4d3f34059940",
   "metadata": {},
   "outputs": [
    {
     "name": "stdout",
     "output_type": "stream",
     "text": [
      "2\n"
     ]
    }
   ],
   "source": [
    "print(b)"
   ]
  },
  {
   "cell_type": "code",
   "execution_count": 33,
   "id": "a9662ea2-609e-487a-a2a4-4454b3d82886",
   "metadata": {},
   "outputs": [],
   "source": [
    "x = int(10.5)"
   ]
  },
  {
   "cell_type": "code",
   "execution_count": 34,
   "id": "635ebd41-4c99-42a7-ab5e-e5c7a289aaa8",
   "metadata": {},
   "outputs": [
    {
     "name": "stdout",
     "output_type": "stream",
     "text": [
      "10\n"
     ]
    }
   ],
   "source": [
    "print(x)"
   ]
  },
  {
   "cell_type": "code",
   "execution_count": 35,
   "id": "289f2af5-fc56-468a-b0d1-3803be1d83fb",
   "metadata": {},
   "outputs": [],
   "source": [
    "weight=int(50.2)"
   ]
  },
  {
   "cell_type": "code",
   "execution_count": 36,
   "id": "b77f9007-59e8-4827-9ae3-cc339f498468",
   "metadata": {},
   "outputs": [
    {
     "name": "stdout",
     "output_type": "stream",
     "text": [
      "50\n"
     ]
    }
   ],
   "source": [
    "print(weight)"
   ]
  },
  {
   "cell_type": "code",
   "execution_count": 37,
   "id": "115a5a79-f116-44cd-894f-c2081abc074d",
   "metadata": {},
   "outputs": [],
   "source": [
    "num=int(20.25)"
   ]
  },
  {
   "cell_type": "code",
   "execution_count": 38,
   "id": "c2dc5b06-fb7d-44d6-a3f0-517bf26ca595",
   "metadata": {},
   "outputs": [
    {
     "name": "stdout",
     "output_type": "stream",
     "text": [
      "20\n"
     ]
    }
   ],
   "source": [
    "print(num)"
   ]
  },
  {
   "cell_type": "markdown",
   "id": "6dce1575-db87-4191-baf3-0473af6a5015",
   "metadata": {},
   "source": [
    "Convert int to float"
   ]
  },
  {
   "cell_type": "code",
   "execution_count": 39,
   "id": "454a5d48-80ad-4eba-85d3-e3de0f6c034a",
   "metadata": {},
   "outputs": [],
   "source": [
    "i = float(50)"
   ]
  },
  {
   "cell_type": "code",
   "execution_count": 40,
   "id": "09090ce9-c309-45eb-9758-f109e1c55804",
   "metadata": {},
   "outputs": [
    {
     "name": "stdout",
     "output_type": "stream",
     "text": [
      "50.0\n"
     ]
    }
   ],
   "source": [
    "print(i)"
   ]
  },
  {
   "cell_type": "code",
   "execution_count": 41,
   "id": "855c6395-f02d-4632-84ff-f8ecbe3c0de6",
   "metadata": {},
   "outputs": [],
   "source": [
    "z = float(35)"
   ]
  },
  {
   "cell_type": "code",
   "execution_count": 42,
   "id": "22f0be41-d80d-40aa-89c3-910d94b661f5",
   "metadata": {},
   "outputs": [
    {
     "name": "stdout",
     "output_type": "stream",
     "text": [
      "35.0\n"
     ]
    }
   ],
   "source": [
    "print(z)"
   ]
  },
  {
   "cell_type": "code",
   "execution_count": 43,
   "id": "d7b0e858-461c-4a12-b9f6-0d33dbd111bf",
   "metadata": {},
   "outputs": [],
   "source": [
    "b=float(125)"
   ]
  },
  {
   "cell_type": "code",
   "execution_count": 44,
   "id": "ca14fafc-fa9e-447c-ad8b-40ea8d447447",
   "metadata": {},
   "outputs": [
    {
     "name": "stdout",
     "output_type": "stream",
     "text": [
      "125.0\n"
     ]
    }
   ],
   "source": [
    "print(b)"
   ]
  },
  {
   "cell_type": "markdown",
   "id": "6416809b-ea9d-46d2-907c-a8a7b6354e90",
   "metadata": {},
   "source": [
    "Convert string to int"
   ]
  },
  {
   "cell_type": "code",
   "execution_count": 45,
   "id": "c6f19b62-5e50-4e73-84e7-b9b1de4d6d88",
   "metadata": {},
   "outputs": [],
   "source": [
    "age=str('21')"
   ]
  },
  {
   "cell_type": "code",
   "execution_count": 46,
   "id": "e32239f7-0d3e-46a4-aa3d-471ea624c78e",
   "metadata": {},
   "outputs": [
    {
     "name": "stdout",
     "output_type": "stream",
     "text": [
      "21\n"
     ]
    }
   ],
   "source": [
    "print(age)"
   ]
  },
  {
   "cell_type": "code",
   "execution_count": 47,
   "id": "50a73423-70b0-49f2-a816-ddb321829328",
   "metadata": {},
   "outputs": [],
   "source": [
    "num=str('100')"
   ]
  },
  {
   "cell_type": "code",
   "execution_count": 48,
   "id": "4da40d44-7d6d-4e5b-a030-075e663ecdea",
   "metadata": {},
   "outputs": [
    {
     "name": "stdout",
     "output_type": "stream",
     "text": [
      "100\n"
     ]
    }
   ],
   "source": [
    "print(num)"
   ]
  },
  {
   "cell_type": "code",
   "execution_count": 49,
   "id": "1789d790-d450-4421-aa85-ad378d439a79",
   "metadata": {},
   "outputs": [],
   "source": [
    "a=str('297')"
   ]
  },
  {
   "cell_type": "code",
   "execution_count": 50,
   "id": "f955c69f-76b7-43d9-a402-2c2dfcd68649",
   "metadata": {},
   "outputs": [
    {
     "name": "stdout",
     "output_type": "stream",
     "text": [
      "297\n"
     ]
    }
   ],
   "source": [
    "print(a)"
   ]
  },
  {
   "cell_type": "markdown",
   "id": "035d3145-eafb-484a-9883-90e7e5e1bc4d",
   "metadata": {},
   "source": [
    "Convert string to float"
   ]
  },
  {
   "cell_type": "code",
   "execution_count": 51,
   "id": "f9177434-9c32-41f8-8ee0-e66f2690e0f6",
   "metadata": {},
   "outputs": [],
   "source": [
    "height=str('5.5')"
   ]
  },
  {
   "cell_type": "code",
   "execution_count": 52,
   "id": "193822ee-f81c-4f12-be54-e22a4ffa1415",
   "metadata": {},
   "outputs": [
    {
     "name": "stdout",
     "output_type": "stream",
     "text": [
      "5.5\n"
     ]
    }
   ],
   "source": [
    "print(height)"
   ]
  },
  {
   "cell_type": "code",
   "execution_count": 53,
   "id": "4fb09be6-4bff-41c9-bbd5-9047ef9164ad",
   "metadata": {},
   "outputs": [],
   "source": [
    "weight=str('35.5')"
   ]
  },
  {
   "cell_type": "code",
   "execution_count": 54,
   "id": "4fbc80a6-5859-415f-9d67-04ca96dd5df3",
   "metadata": {},
   "outputs": [
    {
     "name": "stdout",
     "output_type": "stream",
     "text": [
      "35.5\n"
     ]
    }
   ],
   "source": [
    "print(weight)"
   ]
  },
  {
   "cell_type": "code",
   "execution_count": 57,
   "id": "69635adb-d93d-4832-9753-81a64cb2ade4",
   "metadata": {},
   "outputs": [],
   "source": [
    "d = str('29.7')"
   ]
  },
  {
   "cell_type": "code",
   "execution_count": 98,
   "id": "61d36e80-8859-41c3-8ed8-20d5a77252be",
   "metadata": {},
   "outputs": [
    {
     "name": "stdout",
     "output_type": "stream",
     "text": [
      "29.7\n"
     ]
    }
   ],
   "source": [
    "print(d)"
   ]
  },
  {
   "cell_type": "markdown",
   "id": "bb670075-50a5-4757-bf59-a0c60c474f06",
   "metadata": {},
   "source": [
    "Convert number to boolean"
   ]
  },
  {
   "cell_type": "code",
   "execution_count": 75,
   "id": "f66c38ce-c3b7-43a5-b2e4-cda5998325dc",
   "metadata": {},
   "outputs": [
    {
     "name": "stdout",
     "output_type": "stream",
     "text": [
      "False\n"
     ]
    }
   ],
   "source": [
    "print(bool(0))"
   ]
  },
  {
   "cell_type": "code",
   "execution_count": 80,
   "id": "3a8544f2-9e21-49fe-be16-0598749944f0",
   "metadata": {},
   "outputs": [
    {
     "name": "stdout",
     "output_type": "stream",
     "text": [
      "True\n"
     ]
    }
   ],
   "source": [
    "print(bool(4))"
   ]
  },
  {
   "cell_type": "code",
   "execution_count": 81,
   "id": "737a4854-108b-4378-8552-fdef65ea9e93",
   "metadata": {},
   "outputs": [
    {
     "name": "stdout",
     "output_type": "stream",
     "text": [
      "True\n"
     ]
    }
   ],
   "source": [
    "print(bool(2))"
   ]
  },
  {
   "cell_type": "markdown",
   "id": "eb043ae5-1b4e-4290-b3eb-6de0924413d8",
   "metadata": {},
   "source": [
    "Convert string to boolean"
   ]
  },
  {
   "cell_type": "code",
   "execution_count": 82,
   "id": "248799d6-33ca-4c3f-8967-8a1451a6ad0b",
   "metadata": {},
   "outputs": [
    {
     "name": "stdout",
     "output_type": "stream",
     "text": [
      "False\n"
     ]
    }
   ],
   "source": [
    "print(bool(\"\"))"
   ]
  },
  {
   "cell_type": "code",
   "execution_count": 83,
   "id": "743c7e64-ecc5-400d-a99c-283c82ce46f0",
   "metadata": {},
   "outputs": [
    {
     "name": "stdout",
     "output_type": "stream",
     "text": [
      "True\n"
     ]
    }
   ],
   "source": [
    "print(bool(\"hello\"))"
   ]
  },
  {
   "cell_type": "code",
   "execution_count": 84,
   "id": "1c315a0f-335f-431e-992b-729b0883dedc",
   "metadata": {},
   "outputs": [
    {
     "name": "stdout",
     "output_type": "stream",
     "text": [
      "False\n"
     ]
    }
   ],
   "source": [
    "print(bool(''))"
   ]
  },
  {
   "cell_type": "code",
   "execution_count": 85,
   "id": "3f5301f0-3110-434c-b79d-99c867558edf",
   "metadata": {},
   "outputs": [
    {
     "name": "stdout",
     "output_type": "stream",
     "text": [
      "True\n"
     ]
    }
   ],
   "source": [
    "print(bool('python'))"
   ]
  },
  {
   "cell_type": "markdown",
   "id": "9dd8f46d-9dde-4c2f-a1b6-35c204ec6498",
   "metadata": {},
   "source": [
    "Convert string to list"
   ]
  },
  {
   "cell_type": "code",
   "execution_count": 86,
   "id": "28243237-d576-4de5-9b29-820f9558f8b1",
   "metadata": {},
   "outputs": [],
   "source": [
    "a=list(\"hello\")"
   ]
  },
  {
   "cell_type": "code",
   "execution_count": 95,
   "id": "1a61dc44-91d4-485f-898e-692a214ca8b1",
   "metadata": {},
   "outputs": [
    {
     "data": {
      "text/plain": [
       "['h', 'e', 'l', 'l', 'o']"
      ]
     },
     "execution_count": 95,
     "metadata": {},
     "output_type": "execute_result"
    }
   ],
   "source": [
    "a"
   ]
  },
  {
   "cell_type": "code",
   "execution_count": 96,
   "id": "cfd59c00-a727-462b-8b53-1db7dd1001d1",
   "metadata": {},
   "outputs": [],
   "source": [
    "x = list('ABC')"
   ]
  },
  {
   "cell_type": "code",
   "execution_count": 94,
   "id": "3673799f-12ac-4072-a33a-63075d42493e",
   "metadata": {},
   "outputs": [
    {
     "data": {
      "text/plain": [
       "['A', 'B', 'C']"
      ]
     },
     "execution_count": 94,
     "metadata": {},
     "output_type": "execute_result"
    }
   ],
   "source": [
    "x"
   ]
  },
  {
   "cell_type": "code",
   "execution_count": 111,
   "id": "2fde5b93-8e39-4a33-b9d4-29da9ae508fc",
   "metadata": {},
   "outputs": [],
   "source": [
    "b = list('123456') "
   ]
  },
  {
   "cell_type": "code",
   "execution_count": 112,
   "id": "83b624bd-94d6-4746-9d52-145e18a4baab",
   "metadata": {},
   "outputs": [
    {
     "data": {
      "text/plain": [
       "['1', '2', '3', '4', '5', '6']"
      ]
     },
     "execution_count": 112,
     "metadata": {},
     "output_type": "execute_result"
    }
   ],
   "source": [
    "b"
   ]
  },
  {
   "cell_type": "code",
   "execution_count": 113,
   "id": "28e6507a-773e-4aa8-b66a-0381cdf15f99",
   "metadata": {},
   "outputs": [],
   "source": [
    "c = list('102030')"
   ]
  },
  {
   "cell_type": "code",
   "execution_count": 106,
   "id": "a96f5bc0-4296-4145-ae60-5d3bcca07219",
   "metadata": {},
   "outputs": [
    {
     "data": {
      "text/plain": [
       "['1', '0', '2', '0', '3', '0']"
      ]
     },
     "execution_count": 106,
     "metadata": {},
     "output_type": "execute_result"
    }
   ],
   "source": [
    "c"
   ]
  },
  {
   "cell_type": "markdown",
   "id": "5da76ad7-0b93-4656-80da-188dce3a0f8f",
   "metadata": {},
   "source": [
    "Convert string to set"
   ]
  },
  {
   "cell_type": "code",
   "execution_count": 119,
   "id": "7b4ae196-88c5-4ec9-99af-da079448d4df",
   "metadata": {},
   "outputs": [],
   "source": [
    "name = set('Ram')"
   ]
  },
  {
   "cell_type": "code",
   "execution_count": 120,
   "id": "9539b3b4-1c5d-4621-b2b1-598cc1e68cd1",
   "metadata": {},
   "outputs": [
    {
     "data": {
      "text/plain": [
       "{'R', 'a', 'm'}"
      ]
     },
     "execution_count": 120,
     "metadata": {},
     "output_type": "execute_result"
    }
   ],
   "source": [
    "name"
   ]
  },
  {
   "cell_type": "code",
   "execution_count": 124,
   "id": "1c156c56-93f7-4353-8809-86dfea3ff9f3",
   "metadata": {},
   "outputs": [],
   "source": [
    "num = set('2345')"
   ]
  },
  {
   "cell_type": "code",
   "execution_count": 122,
   "id": "c91a9ade-4ddd-4bab-83cd-ef6a0cb04ede",
   "metadata": {},
   "outputs": [
    {
     "data": {
      "text/plain": [
       "{'2', '3', '4', '5'}"
      ]
     },
     "execution_count": 122,
     "metadata": {},
     "output_type": "execute_result"
    }
   ],
   "source": [
    "num"
   ]
  },
  {
   "cell_type": "code",
   "execution_count": null,
   "id": "24156df6-c2d9-4ac6-98cd-1207c738902d",
   "metadata": {},
   "outputs": [],
   "source": []
  }
 ],
 "metadata": {
  "kernelspec": {
   "display_name": "Python 3 (ipykernel)",
   "language": "python",
   "name": "python3"
  },
  "language_info": {
   "codemirror_mode": {
    "name": "ipython",
    "version": 3
   },
   "file_extension": ".py",
   "mimetype": "text/x-python",
   "name": "python",
   "nbconvert_exporter": "python",
   "pygments_lexer": "ipython3",
   "version": "3.12.7"
  }
 },
 "nbformat": 4,
 "nbformat_minor": 5
}
