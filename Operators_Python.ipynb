{
 "cells": [
  {
   "cell_type": "markdown",
   "id": "461802b9-9819-463c-9009-19067f962db6",
   "metadata": {},
   "source": [
    "# Arithmetic Operators"
   ]
  },
  {
   "cell_type": "code",
   "execution_count": 102,
   "id": "7dcf9f86-5938-42d1-9608-d19468e8e7a3",
   "metadata": {},
   "outputs": [],
   "source": [
    "a = 10\n",
    "b = 15"
   ]
  },
  {
   "cell_type": "code",
   "execution_count": 103,
   "id": "2122b7e4-6af0-4b22-ade5-c027cdc7fc4d",
   "metadata": {},
   "outputs": [
    {
     "data": {
      "text/plain": [
       "25"
      ]
     },
     "execution_count": 103,
     "metadata": {},
     "output_type": "execute_result"
    }
   ],
   "source": [
    "a + b"
   ]
  },
  {
   "cell_type": "code",
   "execution_count": 104,
   "id": "d3c01bc2-8cc7-4e10-9f8e-d59c3fd9608f",
   "metadata": {},
   "outputs": [
    {
     "data": {
      "text/plain": [
       "-5"
      ]
     },
     "execution_count": 104,
     "metadata": {},
     "output_type": "execute_result"
    }
   ],
   "source": [
    "a - b"
   ]
  },
  {
   "cell_type": "code",
   "execution_count": 105,
   "id": "2b8b4ca2-7faa-4fbf-9378-045076ca0a46",
   "metadata": {},
   "outputs": [
    {
     "data": {
      "text/plain": [
       "150"
      ]
     },
     "execution_count": 105,
     "metadata": {},
     "output_type": "execute_result"
    }
   ],
   "source": [
    "a * b"
   ]
  },
  {
   "cell_type": "code",
   "execution_count": 140,
   "id": "cdceb971-bf90-45ce-91b8-1f7233a8cdc5",
   "metadata": {},
   "outputs": [
    {
     "data": {
      "text/plain": [
       "2"
      ]
     },
     "execution_count": 140,
     "metadata": {},
     "output_type": "execute_result"
    }
   ],
   "source": [
    "a%b"
   ]
  },
  {
   "cell_type": "code",
   "execution_count": 142,
   "id": "1f165d78-6f13-40e2-bb6c-210491f3319a",
   "metadata": {},
   "outputs": [
    {
     "data": {
      "text/plain": [
       "0"
      ]
     },
     "execution_count": 142,
     "metadata": {},
     "output_type": "execute_result"
    }
   ],
   "source": [
    "a//b"
   ]
  },
  {
   "cell_type": "markdown",
   "id": "6475ba72-77ab-465d-a575-1c19ffa93bdd",
   "metadata": {},
   "source": [
    "# Comparison Operators"
   ]
  },
  {
   "cell_type": "code",
   "execution_count": 36,
   "id": "9b9b5755-4e9b-4207-a76a-9a6c68ff5248",
   "metadata": {},
   "outputs": [],
   "source": [
    "a = 20\n",
    "b = 18"
   ]
  },
  {
   "cell_type": "code",
   "execution_count": 37,
   "id": "e65bef92-35e7-4ccc-ab11-69868d792276",
   "metadata": {},
   "outputs": [
    {
     "data": {
      "text/plain": [
       "False"
      ]
     },
     "execution_count": 37,
     "metadata": {},
     "output_type": "execute_result"
    }
   ],
   "source": [
    "a<b"
   ]
  },
  {
   "cell_type": "code",
   "execution_count": 38,
   "id": "4ad3823d-8ea0-4ff0-990b-e0933af7fe87",
   "metadata": {},
   "outputs": [
    {
     "data": {
      "text/plain": [
       "False"
      ]
     },
     "execution_count": 38,
     "metadata": {},
     "output_type": "execute_result"
    }
   ],
   "source": [
    "b>a"
   ]
  },
  {
   "cell_type": "code",
   "execution_count": 150,
   "id": "d4035110-e648-44dc-9737-a6c9cfb49b9f",
   "metadata": {},
   "outputs": [
    {
     "data": {
      "text/plain": [
       "True"
      ]
     },
     "execution_count": 150,
     "metadata": {},
     "output_type": "execute_result"
    }
   ],
   "source": [
    "a>b"
   ]
  },
  {
   "cell_type": "code",
   "execution_count": 151,
   "id": "10034907-59f0-4af2-9d2e-a8018bc87e58",
   "metadata": {},
   "outputs": [
    {
     "data": {
      "text/plain": [
       "True"
      ]
     },
     "execution_count": 151,
     "metadata": {},
     "output_type": "execute_result"
    }
   ],
   "source": [
    "a>=b"
   ]
  },
  {
   "cell_type": "code",
   "execution_count": 156,
   "id": "b629ccb2-eb7d-41b9-948c-a38581eb6aea",
   "metadata": {},
   "outputs": [
    {
     "data": {
      "text/plain": [
       "True"
      ]
     },
     "execution_count": 156,
     "metadata": {},
     "output_type": "execute_result"
    }
   ],
   "source": [
    "b<=a"
   ]
  },
  {
   "cell_type": "code",
   "execution_count": null,
   "id": "207b9cbb-d571-4e98-81ee-ced8ac081a87",
   "metadata": {},
   "outputs": [],
   "source": []
  },
  {
   "cell_type": "markdown",
   "id": "54b3188a-0b8f-4f1a-9f0f-004a5db3cc01",
   "metadata": {},
   "source": [
    "# Logical Operators"
   ]
  },
  {
   "cell_type": "code",
   "execution_count": 60,
   "id": "e53ac4f4-eb42-44de-9a05-1d6bfc0e007c",
   "metadata": {},
   "outputs": [],
   "source": [
    "A = 15\n",
    "B = 24"
   ]
  },
  {
   "cell_type": "code",
   "execution_count": 72,
   "id": "fe795928-e3f0-46a5-b2a6-f6e9ebe6d688",
   "metadata": {},
   "outputs": [
    {
     "data": {
      "text/plain": [
       "True"
      ]
     },
     "execution_count": 72,
     "metadata": {},
     "output_type": "execute_result"
    }
   ],
   "source": [
    "A<20 and B>5"
   ]
  },
  {
   "cell_type": "code",
   "execution_count": 73,
   "id": "c8e269f2-d617-4549-aee7-d2d99974445b",
   "metadata": {},
   "outputs": [
    {
     "data": {
      "text/plain": [
       "False"
      ]
     },
     "execution_count": 73,
     "metadata": {},
     "output_type": "execute_result"
    }
   ],
   "source": [
    "B<10 and A<6"
   ]
  },
  {
   "cell_type": "code",
   "execution_count": 153,
   "id": "bb137e2d-ac0f-416f-b215-093a1d694aa7",
   "metadata": {},
   "outputs": [
    {
     "data": {
      "text/plain": [
       "False"
      ]
     },
     "execution_count": 153,
     "metadata": {},
     "output_type": "execute_result"
    }
   ],
   "source": [
    "A<=9 or B<=33"
   ]
  },
  {
   "cell_type": "code",
   "execution_count": 154,
   "id": "b8900d0e-cf40-42cc-9512-df9a9d7d8299",
   "metadata": {},
   "outputs": [
    {
     "data": {
      "text/plain": [
       "False"
      ]
     },
     "execution_count": 154,
     "metadata": {},
     "output_type": "execute_result"
    }
   ],
   "source": [
    "A<4 or A==20"
   ]
  },
  {
   "cell_type": "code",
   "execution_count": 155,
   "id": "26a4b3a3-ae0e-4d76-880d-9276014d9e71",
   "metadata": {},
   "outputs": [
    {
     "data": {
      "text/plain": [
       "True"
      ]
     },
     "execution_count": 155,
     "metadata": {},
     "output_type": "execute_result"
    }
   ],
   "source": [
    "not A==15"
   ]
  },
  {
   "cell_type": "code",
   "execution_count": 74,
   "id": "c975b034-8c6e-45ef-8d05-ea358e66bf4e",
   "metadata": {},
   "outputs": [
    {
     "data": {
      "text/plain": [
       "True"
      ]
     },
     "execution_count": 74,
     "metadata": {},
     "output_type": "execute_result"
    }
   ],
   "source": [
    "B<=3 or A>=8"
   ]
  },
  {
   "cell_type": "markdown",
   "id": "0457d1dc-f8e0-43c8-9a00-48c39f77cb5a",
   "metadata": {},
   "source": [
    "# Bitwise Operators"
   ]
  },
  {
   "cell_type": "code",
   "execution_count": 80,
   "id": "b52aaf1f-7e00-4afa-bee4-a83be4b75662",
   "metadata": {},
   "outputs": [],
   "source": [
    "a=4\n",
    "b=15"
   ]
  },
  {
   "cell_type": "code",
   "execution_count": 81,
   "id": "eefac1ea-450d-45c2-bd6d-7c3440cce82d",
   "metadata": {},
   "outputs": [
    {
     "data": {
      "text/plain": [
       "4"
      ]
     },
     "execution_count": 81,
     "metadata": {},
     "output_type": "execute_result"
    }
   ],
   "source": [
    "a&b"
   ]
  },
  {
   "cell_type": "code",
   "execution_count": 82,
   "id": "39f31749-3cf9-42e1-aba6-de59903ec73d",
   "metadata": {},
   "outputs": [
    {
     "data": {
      "text/plain": [
       "15"
      ]
     },
     "execution_count": 82,
     "metadata": {},
     "output_type": "execute_result"
    }
   ],
   "source": [
    "b|a"
   ]
  },
  {
   "cell_type": "code",
   "execution_count": 144,
   "id": "35fec34f-4714-4ca2-a72e-c70fba21eeb1",
   "metadata": {},
   "outputs": [
    {
     "data": {
      "text/plain": [
       "37"
      ]
     },
     "execution_count": 144,
     "metadata": {},
     "output_type": "execute_result"
    }
   ],
   "source": [
    "a^b"
   ]
  },
  {
   "cell_type": "markdown",
   "id": "a4f9ab7f-c9a8-4a4f-a1db-f1f2f5087d89",
   "metadata": {},
   "source": [
    "# Identity Operators"
   ]
  },
  {
   "cell_type": "code",
   "execution_count": 145,
   "id": "39f61f51-d766-433a-8033-e495a20ba3fc",
   "metadata": {},
   "outputs": [],
   "source": [
    "a=25\n",
    "b=20"
   ]
  },
  {
   "cell_type": "code",
   "execution_count": 146,
   "id": "c30b4ffc-04d1-4a77-a361-116a66598311",
   "metadata": {},
   "outputs": [
    {
     "data": {
      "text/plain": [
       "False"
      ]
     },
     "execution_count": 146,
     "metadata": {},
     "output_type": "execute_result"
    }
   ],
   "source": [
    "a is b"
   ]
  },
  {
   "cell_type": "code",
   "execution_count": 147,
   "id": "335b0652-2966-487b-bb87-8b0d6553d3b0",
   "metadata": {},
   "outputs": [],
   "source": [
    "i = 'hello'\n",
    "g = 'hello'"
   ]
  },
  {
   "cell_type": "code",
   "execution_count": 148,
   "id": "cd8fe08c-65de-4086-a088-e6ff3f1dcbec",
   "metadata": {},
   "outputs": [
    {
     "data": {
      "text/plain": [
       "True"
      ]
     },
     "execution_count": 148,
     "metadata": {},
     "output_type": "execute_result"
    }
   ],
   "source": [
    "i is g"
   ]
  },
  {
   "cell_type": "markdown",
   "id": "6234b69d-ff06-40da-b841-360e350f3fdc",
   "metadata": {},
   "source": [
    "# Membership Operators"
   ]
  },
  {
   "cell_type": "code",
   "execution_count": 92,
   "id": "e14d0ec0-a902-4fbd-b647-26bd271767ea",
   "metadata": {},
   "outputs": [],
   "source": [
    "course = 'python'"
   ]
  },
  {
   "cell_type": "code",
   "execution_count": 93,
   "id": "48cc37e6-240b-4cdd-848c-528df3e97c77",
   "metadata": {},
   "outputs": [
    {
     "data": {
      "text/plain": [
       "True"
      ]
     },
     "execution_count": 93,
     "metadata": {},
     "output_type": "execute_result"
    }
   ],
   "source": [
    "'y' in 'python' "
   ]
  },
  {
   "cell_type": "code",
   "execution_count": 99,
   "id": "d2524665-89bb-4510-b466-f173f43f25b9",
   "metadata": {},
   "outputs": [
    {
     "data": {
      "text/plain": [
       "False"
      ]
     },
     "execution_count": 99,
     "metadata": {},
     "output_type": "execute_result"
    }
   ],
   "source": [
    "'z' in 'python'"
   ]
  },
  {
   "cell_type": "code",
   "execution_count": 100,
   "id": "53247d41-428e-44d4-bb0a-1169da5a01bb",
   "metadata": {},
   "outputs": [],
   "source": [
    "fruit = 'apple'"
   ]
  },
  {
   "cell_type": "code",
   "execution_count": 143,
   "id": "54296081-af53-4d2e-aed3-302133308651",
   "metadata": {},
   "outputs": [
    {
     "data": {
      "text/plain": [
       "False"
      ]
     },
     "execution_count": 143,
     "metadata": {},
     "output_type": "execute_result"
    }
   ],
   "source": [
    "'p'  not in 'apple'"
   ]
  }
 ],
 "metadata": {
  "kernelspec": {
   "display_name": "Python 3 (ipykernel)",
   "language": "python",
   "name": "python3"
  },
  "language_info": {
   "codemirror_mode": {
    "name": "ipython",
    "version": 3
   },
   "file_extension": ".py",
   "mimetype": "text/x-python",
   "name": "python",
   "nbconvert_exporter": "python",
   "pygments_lexer": "ipython3",
   "version": "3.12.7"
  }
 },
 "nbformat": 4,
 "nbformat_minor": 5
}
