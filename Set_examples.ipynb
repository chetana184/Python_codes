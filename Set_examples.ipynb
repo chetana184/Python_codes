{
 "cells": [
  {
   "cell_type": "markdown",
   "id": "d466ccf2-20f5-4e5f-bc52-d4874a26c820",
   "metadata": {},
   "source": [
    "# Set"
   ]
  },
  {
   "cell_type": "code",
   "execution_count": 1,
   "id": "c6f73aac-551b-4fe2-ad7d-3e5324ec56fb",
   "metadata": {},
   "outputs": [],
   "source": [
    "s={6,12,18,24,56,33}"
   ]
  },
  {
   "cell_type": "code",
   "execution_count": 2,
   "id": "f6bdd7d3-c81a-4958-a20e-713d20c4e9a7",
   "metadata": {},
   "outputs": [
    {
     "data": {
      "text/plain": [
       "{6, 12, 18, 24, 33, 56}"
      ]
     },
     "execution_count": 2,
     "metadata": {},
     "output_type": "execute_result"
    }
   ],
   "source": [
    "s"
   ]
  },
  {
   "cell_type": "code",
   "execution_count": 3,
   "id": "073ce68e-6588-4988-b7ce-73cdcf51d6a4",
   "metadata": {},
   "outputs": [
    {
     "data": {
      "text/plain": [
       "set"
      ]
     },
     "execution_count": 3,
     "metadata": {},
     "output_type": "execute_result"
    }
   ],
   "source": [
    "type(s)"
   ]
  },
  {
   "cell_type": "code",
   "execution_count": 4,
   "id": "e0f9e3f6-74b4-4824-8d27-98a35d35f481",
   "metadata": {},
   "outputs": [],
   "source": [
    "y = {2,4,6,8,9,1}\n",
    "z = {3,6,2,3,7,8}"
   ]
  },
  {
   "cell_type": "code",
   "execution_count": 6,
   "id": "3d489f16-d5ae-47ba-a9d5-a85ea5bc01d0",
   "metadata": {},
   "outputs": [
    {
     "data": {
      "text/plain": [
       "set"
      ]
     },
     "execution_count": 6,
     "metadata": {},
     "output_type": "execute_result"
    }
   ],
   "source": [
    "type(y)"
   ]
  },
  {
   "cell_type": "code",
   "execution_count": 7,
   "id": "16620644-69a4-4e70-92dc-b29919151d7e",
   "metadata": {},
   "outputs": [
    {
     "data": {
      "text/plain": [
       "{1, 2, 4, 6, 8, 9}"
      ]
     },
     "execution_count": 7,
     "metadata": {},
     "output_type": "execute_result"
    }
   ],
   "source": [
    "y"
   ]
  },
  {
   "cell_type": "code",
   "execution_count": 9,
   "id": "aeaa8eee-d852-4550-b755-64a9269f9fa0",
   "metadata": {},
   "outputs": [
    {
     "data": {
      "text/plain": [
       "{2, 3, 6, 7, 8}"
      ]
     },
     "execution_count": 9,
     "metadata": {},
     "output_type": "execute_result"
    }
   ],
   "source": [
    "z"
   ]
  },
  {
   "cell_type": "code",
   "execution_count": 19,
   "id": "377cc91a-d663-48e1-98e1-11d3f4de1bf9",
   "metadata": {},
   "outputs": [],
   "source": [
    "a={1,2,3,4,5,6,7}\n",
    "b={8,9,10,11,12,13}"
   ]
  },
  {
   "cell_type": "code",
   "execution_count": 21,
   "id": "895e0fc2-8290-4713-a1bf-26a083b9a921",
   "metadata": {},
   "outputs": [],
   "source": [
    "a=l=[1,2,3,4,5,6,7]\n",
    "b=m=[8,9,10,11,12,13]"
   ]
  },
  {
   "cell_type": "code",
   "execution_count": 22,
   "id": "48ed6471-562b-4623-8138-46f6fc11ea56",
   "metadata": {},
   "outputs": [
    {
     "data": {
      "text/plain": [
       "[1, 2, 3, 4, 5, 6, 7]"
      ]
     },
     "execution_count": 22,
     "metadata": {},
     "output_type": "execute_result"
    }
   ],
   "source": [
    "a"
   ]
  },
  {
   "cell_type": "code",
   "execution_count": 23,
   "id": "3827ca74-4c29-4a1f-b4be-fa418af798c6",
   "metadata": {},
   "outputs": [
    {
     "data": {
      "text/plain": [
       "[8, 9, 10, 11, 12, 13]"
      ]
     },
     "execution_count": 23,
     "metadata": {},
     "output_type": "execute_result"
    }
   ],
   "source": [
    "b"
   ]
  },
  {
   "cell_type": "code",
   "execution_count": 24,
   "id": "e82d0951-f21b-4051-9b8f-f054ef40c144",
   "metadata": {},
   "outputs": [],
   "source": [
    "a=s={1,2,3,4,5,6,7}\n",
    "b=l={8,9,10,11,12,13}"
   ]
  },
  {
   "cell_type": "code",
   "execution_count": 25,
   "id": "d4a64415-c4fd-4648-b651-1232f22b3a78",
   "metadata": {},
   "outputs": [
    {
     "data": {
      "text/plain": [
       "{1, 2, 3, 4, 5, 6, 7}"
      ]
     },
     "execution_count": 25,
     "metadata": {},
     "output_type": "execute_result"
    }
   ],
   "source": [
    "a"
   ]
  },
  {
   "cell_type": "code",
   "execution_count": 26,
   "id": "f966562c-f880-47b2-ae8f-62523b676db9",
   "metadata": {},
   "outputs": [
    {
     "data": {
      "text/plain": [
       "{8, 9, 10, 11, 12, 13}"
      ]
     },
     "execution_count": 26,
     "metadata": {},
     "output_type": "execute_result"
    }
   ],
   "source": [
    "b"
   ]
  },
  {
   "cell_type": "markdown",
   "id": "b010e134-bb1e-48dd-af62-32e803014620",
   "metadata": {},
   "source": [
    "# Set Methods"
   ]
  },
  {
   "cell_type": "code",
   "execution_count": 10,
   "id": "8d7709c2-44e1-42aa-b25c-9c504f3ceee8",
   "metadata": {},
   "outputs": [],
   "source": [
    "y = {2,4,6,8,9,1}\n",
    "z = {3,6,2,3,7,8}"
   ]
  },
  {
   "cell_type": "code",
   "execution_count": 11,
   "id": "c4f1c3f9-1f64-42f7-b121-b095c1e5b46e",
   "metadata": {},
   "outputs": [],
   "source": [
    "y.add(11)"
   ]
  },
  {
   "cell_type": "code",
   "execution_count": 12,
   "id": "c91832d2-cced-4b6d-bb7f-bb4130b7433c",
   "metadata": {},
   "outputs": [
    {
     "data": {
      "text/plain": [
       "{1, 2, 4, 6, 8, 9, 11}"
      ]
     },
     "execution_count": 12,
     "metadata": {},
     "output_type": "execute_result"
    }
   ],
   "source": [
    "y"
   ]
  },
  {
   "cell_type": "code",
   "execution_count": 13,
   "id": "0f6f5c53-75eb-4895-9140-6aee356206b8",
   "metadata": {},
   "outputs": [],
   "source": [
    "z.add(35)"
   ]
  },
  {
   "cell_type": "code",
   "execution_count": 14,
   "id": "3d160ba6-90d6-41aa-8461-c12e16410ce1",
   "metadata": {},
   "outputs": [
    {
     "data": {
      "text/plain": [
       "{2, 3, 6, 7, 8, 35}"
      ]
     },
     "execution_count": 14,
     "metadata": {},
     "output_type": "execute_result"
    }
   ],
   "source": [
    "z"
   ]
  },
  {
   "cell_type": "code",
   "execution_count": 15,
   "id": "c457da66-b80e-45fc-a55a-5a5b5adaf339",
   "metadata": {},
   "outputs": [
    {
     "data": {
      "text/plain": [
       "{1, 2, 3, 4, 6, 7, 8, 9, 11, 35}"
      ]
     },
     "execution_count": 15,
     "metadata": {},
     "output_type": "execute_result"
    }
   ],
   "source": [
    "y.union(z)"
   ]
  },
  {
   "cell_type": "code",
   "execution_count": 17,
   "id": "d1fcab1b-5828-48fb-9744-1d1254e07b85",
   "metadata": {},
   "outputs": [
    {
     "data": {
      "text/plain": [
       "{2, 6, 8}"
      ]
     },
     "execution_count": 17,
     "metadata": {},
     "output_type": "execute_result"
    }
   ],
   "source": [
    "z.intersection(y)"
   ]
  },
  {
   "cell_type": "code",
   "execution_count": 18,
   "id": "e6aae1e8-2837-4223-9b74-aa80db0cab02",
   "metadata": {},
   "outputs": [
    {
     "data": {
      "text/plain": [
       "{1, 4, 9, 11}"
      ]
     },
     "execution_count": 18,
     "metadata": {},
     "output_type": "execute_result"
    }
   ],
   "source": [
    "y.difference(z)"
   ]
  },
  {
   "cell_type": "code",
   "execution_count": null,
   "id": "386240ff-d9f7-4225-8097-643c7728d18e",
   "metadata": {},
   "outputs": [],
   "source": []
  }
 ],
 "metadata": {
  "kernelspec": {
   "display_name": "Python 3 (ipykernel)",
   "language": "python",
   "name": "python3"
  },
  "language_info": {
   "codemirror_mode": {
    "name": "ipython",
    "version": 3
   },
   "file_extension": ".py",
   "mimetype": "text/x-python",
   "name": "python",
   "nbconvert_exporter": "python",
   "pygments_lexer": "ipython3",
   "version": "3.12.7"
  }
 },
 "nbformat": 4,
 "nbformat_minor": 5
}
