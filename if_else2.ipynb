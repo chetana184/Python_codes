{
 "cells": [
  {
   "cell_type": "code",
   "execution_count": 1,
   "id": "4283a031-fca5-48a2-8b5f-4d73135f5275",
   "metadata": {},
   "outputs": [
    {
     "name": "stdout",
     "output_type": "stream",
     "text": [
      "You have written wrong marks in the range 0-100\n"
     ]
    }
   ],
   "source": [
    "marks = -10\n",
    "if marks >= 90 and marks <= 100 :\n",
    "    print('A+')\n",
    "elif marks >= 70 and marks < 90:\n",
    "    print('B')\n",
    "elif marks >= 35 and marks < 70:\n",
    "    print('C')\n",
    "elif marks >= 0 and marks < 35:\n",
    "    print('Fail')\n",
    "else:\n",
    "    print('You have written wrong marks in the range 0-100')\n",
    "    "
   ]
  },
  {
   "cell_type": "code",
   "execution_count": 3,
   "id": "b65006a6-f755-4a22-adf5-a35be6663169",
   "metadata": {},
   "outputs": [
    {
     "name": "stdout",
     "output_type": "stream",
     "text": [
      "A+\n"
     ]
    }
   ],
   "source": [
    "marks = 95\n",
    "if marks >= 90 and marks <= 100 :\n",
    "    print('A+')\n",
    "elif marks >= 70 and marks < 90:\n",
    "    print('B')\n",
    "elif marks >= 35 and marks < 70:\n",
    "    print('C')\n",
    "elif marks >= 0 and marks < 35:\n",
    "    print('Fail')\n",
    "else:\n",
    "    print('You have written wrong marks in the range 0-100')"
   ]
  },
  {
   "cell_type": "code",
   "execution_count": 9,
   "id": "06628118-3aed-4346-9aec-975c54fe530e",
   "metadata": {},
   "outputs": [
    {
     "name": "stdin",
     "output_type": "stream",
     "text": [
      "Enter your username  admin\n",
      "Enter your password hello123\n"
     ]
    },
    {
     "name": "stdout",
     "output_type": "stream",
     "text": [
      "Log in Completed\n"
     ]
    }
   ],
   "source": [
    "user_name = input ('Enter your username ')\n",
    "password = input('Enter your password')\n",
    "if user_name == 'admin' and password == 'hello123':\n",
    "    print('Log in Completed')\n",
    "else:\n",
    "    print('Wrong Username and Password')"
   ]
  },
  {
   "cell_type": "code",
   "execution_count": 11,
   "id": "9d8876b5-3027-4092-97dd-cf7c43d11532",
   "metadata": {},
   "outputs": [
    {
     "name": "stdin",
     "output_type": "stream",
     "text": [
      "Enter your Course HTML\n"
     ]
    },
    {
     "name": "stdout",
     "output_type": "stream",
     "text": [
      "Your course is not availabel\n"
     ]
    }
   ],
   "source": [
    "course = input('Enter your Course')\n",
    "if course=='Python':\n",
    "    print('Python is availabel')\n",
    "elif course=='Java':\n",
    "    print('Java is availabel')\n",
    "elif course=='Data Science':\n",
    "    print('Data Science is availabel')\n",
    "elif course=='Data Analysis':\n",
    "    print('Data Analysis is availabel')\n",
    "else:\n",
    "    print('Your course is not availabel')\n",
    "    "
   ]
  },
  {
   "cell_type": "code",
   "execution_count": 18,
   "id": "3b099fda-ebbf-4808-b544-ff2d4d0cfa53",
   "metadata": {},
   "outputs": [
    {
     "name": "stdin",
     "output_type": "stream",
     "text": [
      "Enter Number 8\n"
     ]
    },
    {
     "name": "stdout",
     "output_type": "stream",
     "text": [
      "Even\n"
     ]
    }
   ],
   "source": [
    "num =int(input('Enter Number'))\n",
    "if num % 2 ==0:\n",
    "    print('Even')\n",
    "else:\n",
    "    print('Odd')"
   ]
  },
  {
   "cell_type": "code",
   "execution_count": null,
   "id": "c6341ab8-e840-4904-a320-7a42a9fb7c91",
   "metadata": {},
   "outputs": [],
   "source": []
  }
 ],
 "metadata": {
  "kernelspec": {
   "display_name": "Python 3 (ipykernel)",
   "language": "python",
   "name": "python3"
  },
  "language_info": {
   "codemirror_mode": {
    "name": "ipython",
    "version": 3
   },
   "file_extension": ".py",
   "mimetype": "text/x-python",
   "name": "python",
   "nbconvert_exporter": "python",
   "pygments_lexer": "ipython3",
   "version": "3.12.7"
  }
 },
 "nbformat": 4,
 "nbformat_minor": 5
}
