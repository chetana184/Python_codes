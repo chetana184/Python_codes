{
 "cells": [
  {
   "cell_type": "markdown",
   "id": "0fc1791c-a0ef-441f-b19d-c09023b3eb23",
   "metadata": {},
   "source": [
    "# Dictionary"
   ]
  },
  {
   "cell_type": "code",
   "execution_count": 1,
   "id": "6959f829-9017-4212-bf5b-2b5042302191",
   "metadata": {},
   "outputs": [],
   "source": [
    "d={'name': 'Ravi', 'age': 20}"
   ]
  },
  {
   "cell_type": "code",
   "execution_count": 2,
   "id": "8a9d432a-ff2b-47f8-8635-5357cf11be22",
   "metadata": {},
   "outputs": [
    {
     "data": {
      "text/plain": [
       "{'name': 'Ravi', 'age': 20}"
      ]
     },
     "execution_count": 2,
     "metadata": {},
     "output_type": "execute_result"
    }
   ],
   "source": [
    "d"
   ]
  },
  {
   "cell_type": "code",
   "execution_count": 3,
   "id": "ab2ac302-c523-436b-86f7-4222d0fed344",
   "metadata": {},
   "outputs": [
    {
     "data": {
      "text/plain": [
       "dict"
      ]
     },
     "execution_count": 3,
     "metadata": {},
     "output_type": "execute_result"
    }
   ],
   "source": [
    "type(d)"
   ]
  },
  {
   "cell_type": "code",
   "execution_count": 4,
   "id": "afdb7e7c-c960-40fe-88a4-f93600191a95",
   "metadata": {},
   "outputs": [],
   "source": [
    "D1={'course': 'Python', 'Books': 4, 'marks':68, 'student_name': 'Kavya', 'age':22}"
   ]
  },
  {
   "cell_type": "code",
   "execution_count": 5,
   "id": "78bbb7fd-b731-4faf-80eb-7040fd88689b",
   "metadata": {},
   "outputs": [
    {
     "data": {
      "text/plain": [
       "{'course': 'Python',\n",
       " 'Books': 4,\n",
       " 'marks': 68,\n",
       " 'student_name': 'Kavya',\n",
       " 'age': 22}"
      ]
     },
     "execution_count": 5,
     "metadata": {},
     "output_type": "execute_result"
    }
   ],
   "source": [
    "D1"
   ]
  },
  {
   "cell_type": "code",
   "execution_count": 6,
   "id": "87d30056-75bb-4e92-b37d-b10fc1ec50c1",
   "metadata": {},
   "outputs": [],
   "source": [
    "D1['city']= 'Solapur'"
   ]
  },
  {
   "cell_type": "code",
   "execution_count": 7,
   "id": "7421b5fe-2ec8-4abd-a29c-05d5946ff6f2",
   "metadata": {},
   "outputs": [
    {
     "data": {
      "text/plain": [
       "{'course': 'Python',\n",
       " 'Books': 4,\n",
       " 'marks': 68,\n",
       " 'student_name': 'Kavya',\n",
       " 'age': 22,\n",
       " 'city': 'Solapur'}"
      ]
     },
     "execution_count": 7,
     "metadata": {},
     "output_type": "execute_result"
    }
   ],
   "source": [
    "D1"
   ]
  },
  {
   "cell_type": "code",
   "execution_count": 8,
   "id": "a7948708-110a-4670-a846-6110d79a7d14",
   "metadata": {},
   "outputs": [
    {
     "data": {
      "text/plain": [
       "'Python'"
      ]
     },
     "execution_count": 8,
     "metadata": {},
     "output_type": "execute_result"
    }
   ],
   "source": [
    "D1['course']"
   ]
  },
  {
   "cell_type": "code",
   "execution_count": 9,
   "id": "6e8c94ea-856e-42b6-9588-30b601034943",
   "metadata": {},
   "outputs": [
    {
     "data": {
      "text/plain": [
       "22"
      ]
     },
     "execution_count": 9,
     "metadata": {},
     "output_type": "execute_result"
    }
   ],
   "source": [
    "D1['age']"
   ]
  },
  {
   "cell_type": "code",
   "execution_count": 23,
   "id": "b00bb32b-8954-46dc-8237-5fb5c940bbfd",
   "metadata": {},
   "outputs": [],
   "source": [
    "dict={'days':[2,3,5,8], 'Age':(18,22,25,21,19)}"
   ]
  },
  {
   "cell_type": "code",
   "execution_count": 24,
   "id": "1b6a8472-73f7-44ee-8cec-28789da28d0b",
   "metadata": {},
   "outputs": [
    {
     "data": {
      "text/plain": [
       "{'days': [2, 3, 5, 8], 'Age': (18, 22, 25, 21, 19)}"
      ]
     },
     "execution_count": 24,
     "metadata": {},
     "output_type": "execute_result"
    }
   ],
   "source": [
    "dict"
   ]
  },
  {
   "cell_type": "code",
   "execution_count": 25,
   "id": "f5f5a964-18c7-4356-b3f4-da5f461409b9",
   "metadata": {},
   "outputs": [
    {
     "data": {
      "text/plain": [
       "dict"
      ]
     },
     "execution_count": 25,
     "metadata": {},
     "output_type": "execute_result"
    }
   ],
   "source": [
    "type(dict)"
   ]
  },
  {
   "cell_type": "markdown",
   "id": "a487c310-009c-4a22-904b-535bd4bd234a",
   "metadata": {},
   "source": [
    "# Dictionary Methods"
   ]
  },
  {
   "cell_type": "code",
   "execution_count": 10,
   "id": "86bd7ab6-65ec-410a-8f39-77641d2b88d8",
   "metadata": {},
   "outputs": [
    {
     "data": {
      "text/plain": [
       "{'name': 'Ravi', 'age': 20}"
      ]
     },
     "execution_count": 10,
     "metadata": {},
     "output_type": "execute_result"
    }
   ],
   "source": [
    "d"
   ]
  },
  {
   "cell_type": "code",
   "execution_count": 11,
   "id": "e51066f8-5ff4-4d09-9b0e-88122f446489",
   "metadata": {},
   "outputs": [
    {
     "data": {
      "text/plain": [
       "dict_keys(['name', 'age'])"
      ]
     },
     "execution_count": 11,
     "metadata": {},
     "output_type": "execute_result"
    }
   ],
   "source": [
    "d.keys()"
   ]
  },
  {
   "cell_type": "code",
   "execution_count": 12,
   "id": "eeab88b2-8569-4abc-a9b5-01a176d6ea75",
   "metadata": {},
   "outputs": [
    {
     "data": {
      "text/plain": [
       "dict_items([('name', 'Ravi'), ('age', 20)])"
      ]
     },
     "execution_count": 12,
     "metadata": {},
     "output_type": "execute_result"
    }
   ],
   "source": [
    "d.items()"
   ]
  },
  {
   "cell_type": "code",
   "execution_count": 13,
   "id": "6d877394-d47c-4591-8a4e-feb92078fc7e",
   "metadata": {},
   "outputs": [
    {
     "data": {
      "text/plain": [
       "{'course': 'Python',\n",
       " 'Books': 4,\n",
       " 'marks': 68,\n",
       " 'student_name': 'Kavya',\n",
       " 'age': 22,\n",
       " 'city': 'Solapur'}"
      ]
     },
     "execution_count": 13,
     "metadata": {},
     "output_type": "execute_result"
    }
   ],
   "source": [
    "D1"
   ]
  },
  {
   "cell_type": "code",
   "execution_count": 14,
   "id": "a5a26dd3-9929-45dd-855e-d2e9ba45aeb7",
   "metadata": {},
   "outputs": [
    {
     "data": {
      "text/plain": [
       "'Kavya'"
      ]
     },
     "execution_count": 14,
     "metadata": {},
     "output_type": "execute_result"
    }
   ],
   "source": [
    "D1.get('student_name')"
   ]
  },
  {
   "cell_type": "code",
   "execution_count": 15,
   "id": "f8bc00d2-2c84-481f-94f7-e056ab277d3a",
   "metadata": {},
   "outputs": [
    {
     "data": {
      "text/plain": [
       "'Python'"
      ]
     },
     "execution_count": 15,
     "metadata": {},
     "output_type": "execute_result"
    }
   ],
   "source": [
    "D1.get('course')"
   ]
  },
  {
   "cell_type": "code",
   "execution_count": 16,
   "id": "0da7c0e7-f076-466b-8dd6-735d68fa4d8b",
   "metadata": {},
   "outputs": [
    {
     "data": {
      "text/plain": [
       "68"
      ]
     },
     "execution_count": 16,
     "metadata": {},
     "output_type": "execute_result"
    }
   ],
   "source": [
    "D1.get('marks')"
   ]
  },
  {
   "cell_type": "code",
   "execution_count": 17,
   "id": "f8daf386-0c70-4d69-9684-b318c441aadc",
   "metadata": {},
   "outputs": [
    {
     "data": {
      "text/plain": [
       "4"
      ]
     },
     "execution_count": 17,
     "metadata": {},
     "output_type": "execute_result"
    }
   ],
   "source": [
    "D1.pop('Books')"
   ]
  },
  {
   "cell_type": "code",
   "execution_count": 18,
   "id": "c78f1977-2399-4400-985d-b4eac43080f6",
   "metadata": {},
   "outputs": [
    {
     "data": {
      "text/plain": [
       "{'course': 'Python',\n",
       " 'marks': 68,\n",
       " 'student_name': 'Kavya',\n",
       " 'age': 22,\n",
       " 'city': 'Solapur'}"
      ]
     },
     "execution_count": 18,
     "metadata": {},
     "output_type": "execute_result"
    }
   ],
   "source": [
    "D1"
   ]
  },
  {
   "cell_type": "code",
   "execution_count": 19,
   "id": "16f0fed9-47cb-4dfb-82c1-e0714c54ca3c",
   "metadata": {},
   "outputs": [
    {
     "data": {
      "text/plain": [
       "dict_values(['Python', 68, 'Kavya', 22, 'Solapur'])"
      ]
     },
     "execution_count": 19,
     "metadata": {},
     "output_type": "execute_result"
    }
   ],
   "source": [
    "D1.values()"
   ]
  },
  {
   "cell_type": "code",
   "execution_count": 20,
   "id": "6989bb0e-df8a-49b3-8a26-5d4525a6c69c",
   "metadata": {},
   "outputs": [
    {
     "data": {
      "text/plain": [
       "dict_keys(['course', 'marks', 'student_name', 'age', 'city'])"
      ]
     },
     "execution_count": 20,
     "metadata": {},
     "output_type": "execute_result"
    }
   ],
   "source": [
    "D1.keys()"
   ]
  },
  {
   "cell_type": "code",
   "execution_count": 21,
   "id": "e4e36f3a-c482-410c-8e21-66965c4c8faa",
   "metadata": {},
   "outputs": [],
   "source": [
    "D1.update({'class': 'Computer'})"
   ]
  },
  {
   "cell_type": "code",
   "execution_count": 22,
   "id": "be4b0205-d3f3-4b3d-b68d-bc1ffbe2f832",
   "metadata": {},
   "outputs": [
    {
     "data": {
      "text/plain": [
       "{'course': 'Python',\n",
       " 'marks': 68,\n",
       " 'student_name': 'Kavya',\n",
       " 'age': 22,\n",
       " 'city': 'Solapur',\n",
       " 'class': 'Computer'}"
      ]
     },
     "execution_count": 22,
     "metadata": {},
     "output_type": "execute_result"
    }
   ],
   "source": [
    "D1"
   ]
  },
  {
   "cell_type": "code",
   "execution_count": null,
   "id": "0910b8d8-9833-4eb4-b945-5c2766a06f71",
   "metadata": {},
   "outputs": [],
   "source": []
  }
 ],
 "metadata": {
  "kernelspec": {
   "display_name": "Python 3 (ipykernel)",
   "language": "python",
   "name": "python3"
  },
  "language_info": {
   "codemirror_mode": {
    "name": "ipython",
    "version": 3
   },
   "file_extension": ".py",
   "mimetype": "text/x-python",
   "name": "python",
   "nbconvert_exporter": "python",
   "pygments_lexer": "ipython3",
   "version": "3.12.7"
  }
 },
 "nbformat": 4,
 "nbformat_minor": 5
}
