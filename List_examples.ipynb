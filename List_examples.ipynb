{
 "cells": [
  {
   "cell_type": "markdown",
   "id": "26195422-4589-43ef-aafb-70d5be800931",
   "metadata": {},
   "source": [
    "# List"
   ]
  },
  {
   "cell_type": "code",
   "execution_count": 14,
   "id": "dea54aa4-5d5a-4a7a-ad27-2034a90c434a",
   "metadata": {},
   "outputs": [],
   "source": [
    "my_list = [1,24,22,35]"
   ]
  },
  {
   "cell_type": "code",
   "execution_count": 15,
   "id": "7abb4bb0-74b8-4cfa-8d0a-cc257707a555",
   "metadata": {},
   "outputs": [
    {
     "data": {
      "text/plain": [
       "[1, 24, 22, 35]"
      ]
     },
     "execution_count": 15,
     "metadata": {},
     "output_type": "execute_result"
    }
   ],
   "source": [
    "my_list"
   ]
  },
  {
   "cell_type": "code",
   "execution_count": 38,
   "id": "3d0cd989-f5d9-4726-8ac9-5cdf163dd1e1",
   "metadata": {},
   "outputs": [],
   "source": [
    "my_list[0]=25  #change data"
   ]
  },
  {
   "cell_type": "code",
   "execution_count": 39,
   "id": "9555a88d-330e-4c3a-ae2d-511e7974c22c",
   "metadata": {},
   "outputs": [
    {
     "data": {
      "text/plain": [
       "[25, 24, 22, 35, 25]"
      ]
     },
     "execution_count": 39,
     "metadata": {},
     "output_type": "execute_result"
    }
   ],
   "source": [
    "my_list"
   ]
  },
  {
   "cell_type": "code",
   "execution_count": 40,
   "id": "382a25ea-1d62-4fba-950b-c34f1c950313",
   "metadata": {},
   "outputs": [
    {
     "data": {
      "text/plain": [
       "24"
      ]
     },
     "execution_count": 40,
     "metadata": {},
     "output_type": "execute_result"
    }
   ],
   "source": [
    "my_list[1]  #check index"
   ]
  },
  {
   "cell_type": "code",
   "execution_count": 41,
   "id": "2967204d-c9b3-4e99-91ee-d88bcc423b30",
   "metadata": {},
   "outputs": [],
   "source": [
    "my_list[0]=18"
   ]
  },
  {
   "cell_type": "code",
   "execution_count": 42,
   "id": "0a08aab3-d832-4ebd-9962-7102d7d52d9c",
   "metadata": {},
   "outputs": [
    {
     "data": {
      "text/plain": [
       "[18, 24, 22, 35, 25]"
      ]
     },
     "execution_count": 42,
     "metadata": {},
     "output_type": "execute_result"
    }
   ],
   "source": [
    "my_list"
   ]
  },
  {
   "cell_type": "code",
   "execution_count": 43,
   "id": "03c180ac-6830-4a7f-a3e5-ec64d5e66e73",
   "metadata": {},
   "outputs": [
    {
     "data": {
      "text/plain": [
       "[24, 22]"
      ]
     },
     "execution_count": 43,
     "metadata": {},
     "output_type": "execute_result"
    }
   ],
   "source": [
    "my_list[1:3]   #slicing"
   ]
  },
  {
   "cell_type": "code",
   "execution_count": 44,
   "id": "c124d693-7ca9-43d9-b307-3b9f67a25523",
   "metadata": {},
   "outputs": [
    {
     "data": {
      "text/plain": [
       "[18, 24, 22, 35]"
      ]
     },
     "execution_count": 44,
     "metadata": {},
     "output_type": "execute_result"
    }
   ],
   "source": [
    "my_list[:4]"
   ]
  },
  {
   "cell_type": "code",
   "execution_count": 45,
   "id": "ff16211d-4dbf-4bdd-9253-055770b38568",
   "metadata": {},
   "outputs": [],
   "source": [
    "mix =['hello', 55, 2.6, True, 1+3j]"
   ]
  },
  {
   "cell_type": "code",
   "execution_count": 46,
   "id": "0b9c3dab-1c2d-45a2-8a2b-33f9035cc067",
   "metadata": {},
   "outputs": [
    {
     "data": {
      "text/plain": [
       "['hello', 55, 2.6, True, (1+3j)]"
      ]
     },
     "execution_count": 46,
     "metadata": {},
     "output_type": "execute_result"
    }
   ],
   "source": [
    "mix"
   ]
  },
  {
   "cell_type": "code",
   "execution_count": 47,
   "id": "0b8a63cf-1427-45fd-b7d0-9b0ddad2b858",
   "metadata": {},
   "outputs": [
    {
     "data": {
      "text/plain": [
       "(1+3j)"
      ]
     },
     "execution_count": 47,
     "metadata": {},
     "output_type": "execute_result"
    }
   ],
   "source": [
    "mix[4]"
   ]
  },
  {
   "cell_type": "code",
   "execution_count": 48,
   "id": "d7422834-c8fd-4445-bdbf-01aa4cdfc806",
   "metadata": {},
   "outputs": [
    {
     "data": {
      "text/plain": [
       "[55]"
      ]
     },
     "execution_count": 48,
     "metadata": {},
     "output_type": "execute_result"
    }
   ],
   "source": [
    "mix[1:3:4]"
   ]
  },
  {
   "cell_type": "code",
   "execution_count": 49,
   "id": "5d6b28c5-fd9b-487d-b887-60335c9cc579",
   "metadata": {},
   "outputs": [],
   "source": [
    "mix[0]='python'"
   ]
  },
  {
   "cell_type": "code",
   "execution_count": 50,
   "id": "2e0e9b3a-c18a-4388-8b49-f671a4b3f552",
   "metadata": {},
   "outputs": [
    {
     "data": {
      "text/plain": [
       "['python', 55, 2.6, True, (1+3j)]"
      ]
     },
     "execution_count": 50,
     "metadata": {},
     "output_type": "execute_result"
    }
   ],
   "source": [
    "mix"
   ]
  },
  {
   "cell_type": "code",
   "execution_count": 51,
   "id": "98ba4b52-c88d-48e4-bf2e-0ef11415b0cb",
   "metadata": {},
   "outputs": [],
   "source": [
    "mix[3]=(4,8)"
   ]
  },
  {
   "cell_type": "code",
   "execution_count": 52,
   "id": "97030631-62ad-4841-b7f4-36dac2df1a47",
   "metadata": {},
   "outputs": [
    {
     "data": {
      "text/plain": [
       "['python', 55, 2.6, (4, 8), (1+3j)]"
      ]
     },
     "execution_count": 52,
     "metadata": {},
     "output_type": "execute_result"
    }
   ],
   "source": [
    "mix"
   ]
  },
  {
   "cell_type": "code",
   "execution_count": 53,
   "id": "55de2e91-cff0-48ba-836b-5ebb47be1c08",
   "metadata": {},
   "outputs": [
    {
     "data": {
      "text/plain": [
       "[(1+3j), (4, 8), 2.6, 55, 'python']"
      ]
     },
     "execution_count": 53,
     "metadata": {},
     "output_type": "execute_result"
    }
   ],
   "source": [
    "mix[::-1]   #reverse items"
   ]
  },
  {
   "cell_type": "code",
   "execution_count": 55,
   "id": "debb73f3-fecd-45e8-bba6-273d0f6c8a0e",
   "metadata": {},
   "outputs": [
    {
     "data": {
      "text/plain": [
       "[18, 24, 22, 35, 25]"
      ]
     },
     "execution_count": 55,
     "metadata": {},
     "output_type": "execute_result"
    }
   ],
   "source": [
    "my_list"
   ]
  },
  {
   "cell_type": "code",
   "execution_count": 56,
   "id": "a6c79735-c8ab-4bba-89a6-848e5bbacfd8",
   "metadata": {},
   "outputs": [
    {
     "data": {
      "text/plain": [
       "[22]"
      ]
     },
     "execution_count": 56,
     "metadata": {},
     "output_type": "execute_result"
    }
   ],
   "source": [
    "my_list[2:1:-3]  #slicing"
   ]
  },
  {
   "cell_type": "code",
   "execution_count": 57,
   "id": "e9319691-9490-4d64-9833-5627fe0f9557",
   "metadata": {},
   "outputs": [
    {
     "data": {
      "text/plain": [
       "[25]"
      ]
     },
     "execution_count": 57,
     "metadata": {},
     "output_type": "execute_result"
    }
   ],
   "source": [
    "my_list[::-5]"
   ]
  },
  {
   "cell_type": "code",
   "execution_count": 61,
   "id": "7fb84517-f95f-44bf-a716-7b48f7eea35f",
   "metadata": {},
   "outputs": [
    {
     "data": {
      "text/plain": [
       "18"
      ]
     },
     "execution_count": 61,
     "metadata": {},
     "output_type": "execute_result"
    }
   ],
   "source": [
    "my_list[-5]"
   ]
  },
  {
   "cell_type": "markdown",
   "id": "d6eba40f-ba2b-409d-8653-fdca2cdc3da3",
   "metadata": {},
   "source": [
    "# List Methods"
   ]
  },
  {
   "cell_type": "code",
   "execution_count": 1,
   "id": "f292fba6-d93c-451e-b514-2bbefffc19ef",
   "metadata": {},
   "outputs": [],
   "source": [
    "group=['A', 'B', 'C', 'D']"
   ]
  },
  {
   "cell_type": "code",
   "execution_count": 2,
   "id": "facd60a2-188e-46b5-84f0-491e304eed85",
   "metadata": {},
   "outputs": [
    {
     "data": {
      "text/plain": [
       "['A', 'B', 'C', 'D']"
      ]
     },
     "execution_count": 2,
     "metadata": {},
     "output_type": "execute_result"
    }
   ],
   "source": [
    "group"
   ]
  },
  {
   "cell_type": "code",
   "execution_count": 3,
   "id": "ae6643f9-99a5-490d-a67a-1e750ca640d6",
   "metadata": {},
   "outputs": [],
   "source": [
    "group.append('S')\n",
    "group.append('B')"
   ]
  },
  {
   "cell_type": "code",
   "execution_count": 4,
   "id": "a4784618-c882-4799-add1-06534f311e92",
   "metadata": {},
   "outputs": [
    {
     "data": {
      "text/plain": [
       "['A', 'B', 'C', 'D', 'S', 'B']"
      ]
     },
     "execution_count": 4,
     "metadata": {},
     "output_type": "execute_result"
    }
   ],
   "source": [
    "group"
   ]
  },
  {
   "cell_type": "code",
   "execution_count": 5,
   "id": "194ac734-e511-42bc-937b-330d6d3f1b53",
   "metadata": {},
   "outputs": [
    {
     "data": {
      "text/plain": [
       "1"
      ]
     },
     "execution_count": 5,
     "metadata": {},
     "output_type": "execute_result"
    }
   ],
   "source": [
    "group.count('A')"
   ]
  },
  {
   "cell_type": "code",
   "execution_count": 6,
   "id": "e17e31b8-47bd-4e26-99af-1f56474e57b4",
   "metadata": {},
   "outputs": [
    {
     "data": {
      "text/plain": [
       "2"
      ]
     },
     "execution_count": 6,
     "metadata": {},
     "output_type": "execute_result"
    }
   ],
   "source": [
    "group.count('B')"
   ]
  },
  {
   "cell_type": "code",
   "execution_count": 7,
   "id": "367f0ed0-b5ae-4f54-8ac5-00f80b2c66f2",
   "metadata": {},
   "outputs": [],
   "source": [
    "names=['Bob', 'Sia', ['Ravi', 'Nita'],'Nick']"
   ]
  },
  {
   "cell_type": "code",
   "execution_count": 8,
   "id": "a0820185-a860-4097-9852-2a7d0ce20aa9",
   "metadata": {},
   "outputs": [
    {
     "data": {
      "text/plain": [
       "2"
      ]
     },
     "execution_count": 8,
     "metadata": {},
     "output_type": "execute_result"
    }
   ],
   "source": [
    "names.index(['Ravi', 'Nita'])"
   ]
  },
  {
   "cell_type": "code",
   "execution_count": 9,
   "id": "4c1dc1fc-4842-46dc-a24b-1f33d59435ab",
   "metadata": {},
   "outputs": [
    {
     "data": {
      "text/plain": [
       "3"
      ]
     },
     "execution_count": 9,
     "metadata": {},
     "output_type": "execute_result"
    }
   ],
   "source": [
    "names.index('Nick')"
   ]
  },
  {
   "cell_type": "code",
   "execution_count": 10,
   "id": "e0299769-effa-48d6-8632-51fd6b399827",
   "metadata": {},
   "outputs": [],
   "source": [
    "names.insert(4,'Parth')"
   ]
  },
  {
   "cell_type": "code",
   "execution_count": 11,
   "id": "780ec92f-c62b-4c96-a5ac-159cc308789b",
   "metadata": {},
   "outputs": [
    {
     "data": {
      "text/plain": [
       "['Bob', 'Sia', ['Ravi', 'Nita'], 'Nick', 'Parth']"
      ]
     },
     "execution_count": 11,
     "metadata": {},
     "output_type": "execute_result"
    }
   ],
   "source": [
    "names"
   ]
  },
  {
   "cell_type": "code",
   "execution_count": 12,
   "id": "d290b593-c7ba-4fb8-bc2d-1089fc6dde00",
   "metadata": {},
   "outputs": [
    {
     "data": {
      "text/plain": [
       "'Parth'"
      ]
     },
     "execution_count": 12,
     "metadata": {},
     "output_type": "execute_result"
    }
   ],
   "source": [
    "names.pop()"
   ]
  },
  {
   "cell_type": "code",
   "execution_count": 13,
   "id": "aee1bb55-cac9-4a1a-a521-fa0c5669c0dc",
   "metadata": {},
   "outputs": [],
   "source": [
    "names.remove('Nick')"
   ]
  },
  {
   "cell_type": "code",
   "execution_count": 14,
   "id": "59355c8d-c62d-4d57-bf5e-87af86605e74",
   "metadata": {},
   "outputs": [
    {
     "data": {
      "text/plain": [
       "['Bob', 'Sia', ['Ravi', 'Nita']]"
      ]
     },
     "execution_count": 14,
     "metadata": {},
     "output_type": "execute_result"
    }
   ],
   "source": [
    "names"
   ]
  },
  {
   "cell_type": "code",
   "execution_count": 15,
   "id": "32641806-6394-495b-a3bb-d48a8c543c85",
   "metadata": {},
   "outputs": [
    {
     "data": {
      "text/plain": [
       "'Nita'"
      ]
     },
     "execution_count": 15,
     "metadata": {},
     "output_type": "execute_result"
    }
   ],
   "source": [
    "names[2][1]"
   ]
  },
  {
   "cell_type": "code",
   "execution_count": 16,
   "id": "a65041a7-2e8d-4bae-9ebe-2f2df7ca13b3",
   "metadata": {},
   "outputs": [],
   "source": [
    "names.extend('Jhen')"
   ]
  },
  {
   "cell_type": "code",
   "execution_count": 17,
   "id": "693fff7f-d357-4ff7-963a-07fc5f805be7",
   "metadata": {},
   "outputs": [
    {
     "data": {
      "text/plain": [
       "['Bob', 'Sia', ['Ravi', 'Nita'], 'J', 'h', 'e', 'n']"
      ]
     },
     "execution_count": 17,
     "metadata": {},
     "output_type": "execute_result"
    }
   ],
   "source": [
    "names"
   ]
  },
  {
   "cell_type": "code",
   "execution_count": 18,
   "id": "c17c87d1-fde3-4530-818f-8d48c57acde5",
   "metadata": {},
   "outputs": [],
   "source": [
    "b=['Bob', 'Sia', ['Ravi', 'Nita'], ['J', 'h', 'e', 'n']]  #Nested List"
   ]
  },
  {
   "cell_type": "code",
   "execution_count": 20,
   "id": "76b3f697-d50b-4561-b2f7-cc1e699e4bb9",
   "metadata": {},
   "outputs": [
    {
     "data": {
      "text/plain": [
       "'h'"
      ]
     },
     "execution_count": 20,
     "metadata": {},
     "output_type": "execute_result"
    }
   ],
   "source": [
    "b[3][1]"
   ]
  },
  {
   "cell_type": "code",
   "execution_count": 21,
   "id": "9379c81d-051e-4689-b4c7-ad19f3548e74",
   "metadata": {},
   "outputs": [
    {
     "data": {
      "text/plain": [
       "['J', 'h', 'e', 'n']"
      ]
     },
     "execution_count": 21,
     "metadata": {},
     "output_type": "execute_result"
    }
   ],
   "source": [
    "b[3]"
   ]
  },
  {
   "cell_type": "code",
   "execution_count": 22,
   "id": "5bbdad84-a642-43aa-84e7-226934aa9dfb",
   "metadata": {},
   "outputs": [],
   "source": [
    "b.reverse()"
   ]
  },
  {
   "cell_type": "code",
   "execution_count": 23,
   "id": "11256c5b-65f0-4ccf-8071-3d9acda29a00",
   "metadata": {},
   "outputs": [
    {
     "data": {
      "text/plain": [
       "[['J', 'h', 'e', 'n'], ['Ravi', 'Nita'], 'Sia', 'Bob']"
      ]
     },
     "execution_count": 23,
     "metadata": {},
     "output_type": "execute_result"
    }
   ],
   "source": [
    "b"
   ]
  },
  {
   "cell_type": "code",
   "execution_count": null,
   "id": "c1b815f9-b88e-4961-9484-261b721cd00e",
   "metadata": {},
   "outputs": [],
   "source": []
  }
 ],
 "metadata": {
  "kernelspec": {
   "display_name": "Python 3 (ipykernel)",
   "language": "python",
   "name": "python3"
  },
  "language_info": {
   "codemirror_mode": {
    "name": "ipython",
    "version": 3
   },
   "file_extension": ".py",
   "mimetype": "text/x-python",
   "name": "python",
   "nbconvert_exporter": "python",
   "pygments_lexer": "ipython3",
   "version": "3.12.7"
  }
 },
 "nbformat": 4,
 "nbformat_minor": 5
}
